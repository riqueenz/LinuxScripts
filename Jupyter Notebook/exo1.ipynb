{
 "cells": [
  {
   "cell_type": "raw",
   "id": "17f84f9b",
   "metadata": {},
   "source": [
    "Iniciar sympy e declarar variáveis simbólicas"
   ]
  },
  {
   "cell_type": "code",
   "execution_count": 79,
   "id": "64175fc3",
   "metadata": {},
   "outputs": [],
   "source": [
    "from sympy import *\n",
    "A, D, pi, S, Vdu, rv, z, Vd, V1, V2 = symbols('A D pi S Vdu rv z Vd V1 V2')"
   ]
  },
  {
   "cell_type": "raw",
   "id": "5ec6ea79",
   "metadata": {},
   "source": [
    "Colocando os dados passados no exercício"
   ]
  },
  {
   "cell_type": "code",
   "execution_count": 69,
   "id": "cbcdd05f",
   "metadata": {},
   "outputs": [],
   "source": [
    "Vd = 5.2 # litros\n",
    "D = 10.2  # cm\n",
    "z = 6 # cilindros\n",
    "V2 = 54.2 # cm3\n",
    "\n",
    "Vd = Vd * 1000 # cm3"
   ]
  },
  {
   "cell_type": "raw",
   "id": "f69cda45",
   "metadata": {},
   "source": [
    "Convertendo as variáveis em fração para aumentar a precisão, pois não é adequado passar variáveis do tipo float (número com vírgula) para dentro do cálculo simbólico. Isso pode prejudicar a precisão do cálculo."
   ]
  },
  {
   "cell_type": "code",
   "execution_count": 70,
   "id": "5663b86d",
   "metadata": {},
   "outputs": [
    {
     "name": "stdout",
     "output_type": "stream",
     "text": [
      "Vd = 5200\n",
      "D = 51/5\n",
      "z = 6\n",
      "V2 = 271/5\n"
     ]
    }
   ],
   "source": [
    "Vd = Rational(Vd).limit_denominator(100)\n",
    "D = Rational(D).limit_denominator(100)\n",
    "z = Rational(z).limit_denominator(100)\n",
    "V2 = Rational(V2).limit_denominator(100)\n",
    "\n",
    "print(\"Vd = \" + str(Vd))\n",
    "print(\"D = \" + str(D))\n",
    "print(\"z = \" + str(z))\n",
    "print(\"V2 = \" + str(V2))"
   ]
  },
  {
   "cell_type": "code",
   "execution_count": 71,
   "id": "8fc39d91",
   "metadata": {
    "scrolled": true
   },
   "outputs": [
    {
     "name": "stdout",
     "output_type": "stream",
     "text": [
      "Vdu = \\frac{2600}{3}\n",
      "5200\n"
     ]
    },
    {
     "data": {
      "text/plain": [
       "[]"
      ]
     },
     "execution_count": 71,
     "metadata": {},
     "output_type": "execute_result"
    }
   ],
   "source": [
    "Vdu = Eq(Vdu, Vd / z)\n",
    "\n",
    "print(latex(Vdu))\n",
    "print(latex(Vd))\n",
    "\n",
    "solve(Vdu, z)"
   ]
  },
  {
   "cell_type": "code",
   "execution_count": 80,
   "id": "22133450",
   "metadata": {},
   "outputs": [
    {
     "name": "stdout",
     "output_type": "stream",
     "text": [
      "Vdu = \\frac{D^{2} S \\pi}{4}\n",
      "\\left[ \\frac{4 Vdu}{D^{2} \\pi}\\right]\n"
     ]
    }
   ],
   "source": [
    "A = (pi * D * D) / 4\n",
    "Vdu = Eq(Vdu, (pi * D * D * S)/4)\n",
    "print(latex(Vdu))\n",
    "S = solve(Vdu, S)\n",
    "print(latex(S))"
   ]
  },
  {
   "cell_type": "code",
   "execution_count": null,
   "id": "400564bf",
   "metadata": {},
   "outputs": [],
   "source": []
  }
 ],
 "metadata": {
  "kernelspec": {
   "display_name": "Python 3 (ipykernel)",
   "language": "python",
   "name": "python3"
  },
  "language_info": {
   "codemirror_mode": {
    "name": "ipython",
    "version": 3
   },
   "file_extension": ".py",
   "mimetype": "text/x-python",
   "name": "python",
   "nbconvert_exporter": "python",
   "pygments_lexer": "ipython3",
   "version": "3.10.6"
  }
 },
 "nbformat": 4,
 "nbformat_minor": 5
}
